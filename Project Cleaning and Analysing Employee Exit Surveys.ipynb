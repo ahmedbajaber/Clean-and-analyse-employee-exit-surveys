{
 "cells": [
  {
   "cell_type": "markdown",
   "metadata": {
    "collapsed": true
   },
   "source": [
    "##Cleaning and Analyzing Australian employee exit surveys\n",
    "\n",
    "Raw data was collected from https://data.gov.au/.\n",
    "The datasets are exit surveys from the Department of Education, Training, and Employment & The Technical and Further Education body of Queensland, Australia. \n",
    "\n",
    "I am looking to answer the following questions:\n",
    "\n",
    "1) Are employees who only worked for the institutes for a short period of time resigning due to some kind of dissatisfaction? What about employees who have been there longer?\n",
    "2) Are younger employees resigning due to some kind of dissatisfaction? What about older employees?\n"
   ]
  },
  {
   "cell_type": "markdown",
   "metadata": {},
   "source": [
    "Reading the datasets in and explore them a little\n",
    "    "
   ]
  },
  {
   "cell_type": "code",
   "execution_count": 1,
   "metadata": {
    "collapsed": true
   },
   "outputs": [],
   "source": [
    "import pandas as pd\n",
    "import numpy as np\n",
    "\n",
    "dete_survey = pd.read_csv('dete_survey.csv')\n",
    "tafe_survey = pd.read_csv('tafe_survey.csv')\n",
    "\n"
   ]
  },
  {
   "cell_type": "code",
   "execution_count": 2,
   "metadata": {},
   "outputs": [
    {
     "name": "stdout",
     "output_type": "stream",
     "text": [
      "<class 'pandas.core.frame.DataFrame'>\n",
      "RangeIndex: 822 entries, 0 to 821\n",
      "Data columns (total 56 columns):\n",
      "ID                                     822 non-null int64\n",
      "SeparationType                         822 non-null object\n",
      "Cease Date                             822 non-null object\n",
      "DETE Start Date                        822 non-null object\n",
      "Role Start Date                        822 non-null object\n",
      "Position                               817 non-null object\n",
      "Classification                         455 non-null object\n",
      "Region                                 822 non-null object\n",
      "Business Unit                          126 non-null object\n",
      "Employment Status                      817 non-null object\n",
      "Career move to public sector           822 non-null bool\n",
      "Career move to private sector          822 non-null bool\n",
      "Interpersonal conflicts                822 non-null bool\n",
      "Job dissatisfaction                    822 non-null bool\n",
      "Dissatisfaction with the department    822 non-null bool\n",
      "Physical work environment              822 non-null bool\n",
      "Lack of recognition                    822 non-null bool\n",
      "Lack of job security                   822 non-null bool\n",
      "Work location                          822 non-null bool\n",
      "Employment conditions                  822 non-null bool\n",
      "Maternity/family                       822 non-null bool\n",
      "Relocation                             822 non-null bool\n",
      "Study/Travel                           822 non-null bool\n",
      "Ill Health                             822 non-null bool\n",
      "Traumatic incident                     822 non-null bool\n",
      "Work life balance                      822 non-null bool\n",
      "Workload                               822 non-null bool\n",
      "None of the above                      822 non-null bool\n",
      "Professional Development               808 non-null object\n",
      "Opportunities for promotion            735 non-null object\n",
      "Staff morale                           816 non-null object\n",
      "Workplace issue                        788 non-null object\n",
      "Physical environment                   817 non-null object\n",
      "Worklife balance                       815 non-null object\n",
      "Stress and pressure support            810 non-null object\n",
      "Performance of supervisor              813 non-null object\n",
      "Peer support                           812 non-null object\n",
      "Initiative                             813 non-null object\n",
      "Skills                                 811 non-null object\n",
      "Coach                                  767 non-null object\n",
      "Career Aspirations                     746 non-null object\n",
      "Feedback                               792 non-null object\n",
      "Further PD                             768 non-null object\n",
      "Communication                          814 non-null object\n",
      "My say                                 812 non-null object\n",
      "Information                            816 non-null object\n",
      "Kept informed                          813 non-null object\n",
      "Wellness programs                      766 non-null object\n",
      "Health & Safety                        793 non-null object\n",
      "Gender                                 798 non-null object\n",
      "Age                                    811 non-null object\n",
      "Aboriginal                             16 non-null object\n",
      "Torres Strait                          3 non-null object\n",
      "South Sea                              7 non-null object\n",
      "Disability                             23 non-null object\n",
      "NESB                                   32 non-null object\n",
      "dtypes: bool(18), int64(1), object(37)\n",
      "memory usage: 258.6+ KB\n"
     ]
    }
   ],
   "source": [
    "dete_survey.info()"
   ]
  },
  {
   "cell_type": "code",
   "execution_count": 3,
   "metadata": {},
   "outputs": [
    {
     "name": "stdout",
     "output_type": "stream",
     "text": [
      "<class 'pandas.core.frame.DataFrame'>\n",
      "RangeIndex: 702 entries, 0 to 701\n",
      "Data columns (total 72 columns):\n",
      "Record ID                                                                                                                                                        702 non-null float64\n",
      "Institute                                                                                                                                                        702 non-null object\n",
      "WorkArea                                                                                                                                                         702 non-null object\n",
      "CESSATION YEAR                                                                                                                                                   695 non-null float64\n",
      "Reason for ceasing employment                                                                                                                                    701 non-null object\n",
      "Contributing Factors. Career Move - Public Sector                                                                                                                437 non-null object\n",
      "Contributing Factors. Career Move - Private Sector                                                                                                               437 non-null object\n",
      "Contributing Factors. Career Move - Self-employment                                                                                                              437 non-null object\n",
      "Contributing Factors. Ill Health                                                                                                                                 437 non-null object\n",
      "Contributing Factors. Maternity/Family                                                                                                                           437 non-null object\n",
      "Contributing Factors. Dissatisfaction                                                                                                                            437 non-null object\n",
      "Contributing Factors. Job Dissatisfaction                                                                                                                        437 non-null object\n",
      "Contributing Factors. Interpersonal Conflict                                                                                                                     437 non-null object\n",
      "Contributing Factors. Study                                                                                                                                      437 non-null object\n",
      "Contributing Factors. Travel                                                                                                                                     437 non-null object\n",
      "Contributing Factors. Other                                                                                                                                      437 non-null object\n",
      "Contributing Factors. NONE                                                                                                                                       437 non-null object\n",
      "Main Factor. Which of these was the main factor for leaving?                                                                                                     113 non-null object\n",
      "InstituteViews. Topic:1. I feel the senior leadership had a clear vision and direction                                                                           608 non-null object\n",
      "InstituteViews. Topic:2. I was given access to skills training to help me do my job better                                                                       613 non-null object\n",
      "InstituteViews. Topic:3. I was given adequate opportunities for personal development                                                                             610 non-null object\n",
      "InstituteViews. Topic:4. I was given adequate opportunities for promotion within %Institute]Q25LBL%                                                              608 non-null object\n",
      "InstituteViews. Topic:5. I felt the salary for the job was right for the responsibilities I had                                                                  615 non-null object\n",
      "InstituteViews. Topic:6. The organisation recognised when staff did good work                                                                                    607 non-null object\n",
      "InstituteViews. Topic:7. Management was generally supportive of me                                                                                               614 non-null object\n",
      "InstituteViews. Topic:8. Management was generally supportive of my team                                                                                          608 non-null object\n",
      "InstituteViews. Topic:9. I was kept informed of the changes in the organisation which would affect me                                                            610 non-null object\n",
      "InstituteViews. Topic:10. Staff morale was positive within the Institute                                                                                         602 non-null object\n",
      "InstituteViews. Topic:11. If I had a workplace issue it was dealt with quickly                                                                                   601 non-null object\n",
      "InstituteViews. Topic:12. If I had a workplace issue it was dealt with efficiently                                                                               597 non-null object\n",
      "InstituteViews. Topic:13. If I had a workplace issue it was dealt with discreetly                                                                                601 non-null object\n",
      "WorkUnitViews. Topic:14. I was satisfied with the quality of the management and supervision within my work unit                                                  609 non-null object\n",
      "WorkUnitViews. Topic:15. I worked well with my colleagues                                                                                                        605 non-null object\n",
      "WorkUnitViews. Topic:16. My job was challenging and interesting                                                                                                  607 non-null object\n",
      "WorkUnitViews. Topic:17. I was encouraged to use my initiative in the course of my work                                                                          610 non-null object\n",
      "WorkUnitViews. Topic:18. I had sufficient contact with other people in my job                                                                                    613 non-null object\n",
      "WorkUnitViews. Topic:19. I was given adequate support and co-operation by my peers to enable me to do my job                                                     609 non-null object\n",
      "WorkUnitViews. Topic:20. I was able to use the full range of my skills in my job                                                                                 609 non-null object\n",
      "WorkUnitViews. Topic:21. I was able to use the full range of my abilities in my job. ; Category:Level of Agreement; Question:YOUR VIEWS ABOUT YOUR WORK UNIT]    608 non-null object\n",
      "WorkUnitViews. Topic:22. I was able to use the full range of my knowledge in my job                                                                              608 non-null object\n",
      "WorkUnitViews. Topic:23. My job provided sufficient variety                                                                                                      611 non-null object\n",
      "WorkUnitViews. Topic:24. I was able to cope with the level of stress and pressure in my job                                                                      610 non-null object\n",
      "WorkUnitViews. Topic:25. My job allowed me to balance the demands of work and family to my satisfaction                                                          611 non-null object\n",
      "WorkUnitViews. Topic:26. My supervisor gave me adequate personal recognition and feedback on my performance                                                      606 non-null object\n",
      "WorkUnitViews. Topic:27. My working environment was satisfactory e.g. sufficient space, good lighting, suitable seating and working area                         610 non-null object\n",
      "WorkUnitViews. Topic:28. I was given the opportunity to mentor and coach others in order for me to pass on my skills and knowledge prior to my cessation date    609 non-null object\n",
      "WorkUnitViews. Topic:29. There was adequate communication between staff in my unit                                                                               603 non-null object\n",
      "WorkUnitViews. Topic:30. Staff morale was positive within my work unit                                                                                           606 non-null object\n",
      "Induction. Did you undertake Workplace Induction?                                                                                                                619 non-null object\n",
      "InductionInfo. Topic:Did you undertake a Corporate Induction?                                                                                                    432 non-null object\n",
      "InductionInfo. Topic:Did you undertake a Institute Induction?                                                                                                    483 non-null object\n",
      "InductionInfo. Topic: Did you undertake Team Induction?                                                                                                          440 non-null object\n",
      "InductionInfo. Face to Face Topic:Did you undertake a Corporate Induction; Category:How it was conducted?                                                        555 non-null object\n",
      "InductionInfo. On-line Topic:Did you undertake a Corporate Induction; Category:How it was conducted?                                                             555 non-null object\n",
      "InductionInfo. Induction Manual Topic:Did you undertake a Corporate Induction?                                                                                   555 non-null object\n",
      "InductionInfo. Face to Face Topic:Did you undertake a Institute Induction?                                                                                       530 non-null object\n",
      "InductionInfo. On-line Topic:Did you undertake a Institute Induction?                                                                                            555 non-null object\n",
      "InductionInfo. Induction Manual Topic:Did you undertake a Institute Induction?                                                                                   553 non-null object\n",
      "InductionInfo. Face to Face Topic: Did you undertake Team Induction; Category?                                                                                   555 non-null object\n",
      "InductionInfo. On-line Topic: Did you undertake Team Induction?process you undertook and how it was conducted.]                                                  555 non-null object\n",
      "InductionInfo. Induction Manual Topic: Did you undertake Team Induction?                                                                                         555 non-null object\n",
      "Workplace. Topic:Did you and your Manager develop a Performance and Professional Development Plan (PPDP)?                                                        608 non-null object\n",
      "Workplace. Topic:Does your workplace promote a work culture free from all forms of unlawful discrimination?                                                      594 non-null object\n",
      "Workplace. Topic:Does your workplace promote and practice the principles of employment equity?                                                                   587 non-null object\n",
      "Workplace. Topic:Does your workplace value the diversity of its employees?                                                                                       586 non-null object\n",
      "Workplace. Topic:Would you recommend the Institute as an employer to others?                                                                                     581 non-null object\n",
      "Gender. What is your Gender?                                                                                                                                     596 non-null object\n",
      "CurrentAge. Current Age                                                                                                                                          596 non-null object\n",
      "Employment Type. Employment Type                                                                                                                                 596 non-null object\n",
      "Classification. Classification                                                                                                                                   596 non-null object\n",
      "LengthofServiceOverall. Overall Length of Service at Institute (in years)                                                                                        596 non-null object\n",
      "LengthofServiceCurrent. Length of Service at current workplace (in years)                                                                                        596 non-null object\n",
      "dtypes: float64(2), object(70)\n",
      "memory usage: 395.0+ KB\n"
     ]
    }
   ],
   "source": [
    "tafe_survey.info()"
   ]
  },
  {
   "cell_type": "code",
   "execution_count": 4,
   "metadata": {},
   "outputs": [
    {
     "data": {
      "text/html": [
       "<div>\n",
       "<style scoped>\n",
       "    .dataframe tbody tr th:only-of-type {\n",
       "        vertical-align: middle;\n",
       "    }\n",
       "\n",
       "    .dataframe tbody tr th {\n",
       "        vertical-align: top;\n",
       "    }\n",
       "\n",
       "    .dataframe thead th {\n",
       "        text-align: right;\n",
       "    }\n",
       "</style>\n",
       "<table border=\"1\" class=\"dataframe\">\n",
       "  <thead>\n",
       "    <tr style=\"text-align: right;\">\n",
       "      <th></th>\n",
       "      <th>ID</th>\n",
       "      <th>SeparationType</th>\n",
       "      <th>Cease Date</th>\n",
       "      <th>DETE Start Date</th>\n",
       "      <th>Role Start Date</th>\n",
       "      <th>Position</th>\n",
       "      <th>Classification</th>\n",
       "      <th>Region</th>\n",
       "      <th>Business Unit</th>\n",
       "      <th>Employment Status</th>\n",
       "      <th>...</th>\n",
       "      <th>Kept informed</th>\n",
       "      <th>Wellness programs</th>\n",
       "      <th>Health &amp; Safety</th>\n",
       "      <th>Gender</th>\n",
       "      <th>Age</th>\n",
       "      <th>Aboriginal</th>\n",
       "      <th>Torres Strait</th>\n",
       "      <th>South Sea</th>\n",
       "      <th>Disability</th>\n",
       "      <th>NESB</th>\n",
       "    </tr>\n",
       "  </thead>\n",
       "  <tbody>\n",
       "    <tr>\n",
       "      <th>0</th>\n",
       "      <td>1</td>\n",
       "      <td>Ill Health Retirement</td>\n",
       "      <td>08/2012</td>\n",
       "      <td>1984</td>\n",
       "      <td>2004</td>\n",
       "      <td>Public Servant</td>\n",
       "      <td>A01-A04</td>\n",
       "      <td>Central Office</td>\n",
       "      <td>Corporate Strategy and Peformance</td>\n",
       "      <td>Permanent Full-time</td>\n",
       "      <td>...</td>\n",
       "      <td>N</td>\n",
       "      <td>N</td>\n",
       "      <td>N</td>\n",
       "      <td>Male</td>\n",
       "      <td>56-60</td>\n",
       "      <td>NaN</td>\n",
       "      <td>NaN</td>\n",
       "      <td>NaN</td>\n",
       "      <td>NaN</td>\n",
       "      <td>Yes</td>\n",
       "    </tr>\n",
       "    <tr>\n",
       "      <th>1</th>\n",
       "      <td>2</td>\n",
       "      <td>Voluntary Early Retirement (VER)</td>\n",
       "      <td>08/2012</td>\n",
       "      <td>Not Stated</td>\n",
       "      <td>Not Stated</td>\n",
       "      <td>Public Servant</td>\n",
       "      <td>AO5-AO7</td>\n",
       "      <td>Central Office</td>\n",
       "      <td>Corporate Strategy and Peformance</td>\n",
       "      <td>Permanent Full-time</td>\n",
       "      <td>...</td>\n",
       "      <td>N</td>\n",
       "      <td>N</td>\n",
       "      <td>N</td>\n",
       "      <td>Male</td>\n",
       "      <td>56-60</td>\n",
       "      <td>NaN</td>\n",
       "      <td>NaN</td>\n",
       "      <td>NaN</td>\n",
       "      <td>NaN</td>\n",
       "      <td>NaN</td>\n",
       "    </tr>\n",
       "    <tr>\n",
       "      <th>2</th>\n",
       "      <td>3</td>\n",
       "      <td>Voluntary Early Retirement (VER)</td>\n",
       "      <td>05/2012</td>\n",
       "      <td>2011</td>\n",
       "      <td>2011</td>\n",
       "      <td>Schools Officer</td>\n",
       "      <td>NaN</td>\n",
       "      <td>Central Office</td>\n",
       "      <td>Education Queensland</td>\n",
       "      <td>Permanent Full-time</td>\n",
       "      <td>...</td>\n",
       "      <td>N</td>\n",
       "      <td>N</td>\n",
       "      <td>N</td>\n",
       "      <td>Male</td>\n",
       "      <td>61 or older</td>\n",
       "      <td>NaN</td>\n",
       "      <td>NaN</td>\n",
       "      <td>NaN</td>\n",
       "      <td>NaN</td>\n",
       "      <td>NaN</td>\n",
       "    </tr>\n",
       "    <tr>\n",
       "      <th>3</th>\n",
       "      <td>4</td>\n",
       "      <td>Resignation-Other reasons</td>\n",
       "      <td>05/2012</td>\n",
       "      <td>2005</td>\n",
       "      <td>2006</td>\n",
       "      <td>Teacher</td>\n",
       "      <td>Primary</td>\n",
       "      <td>Central Queensland</td>\n",
       "      <td>NaN</td>\n",
       "      <td>Permanent Full-time</td>\n",
       "      <td>...</td>\n",
       "      <td>A</td>\n",
       "      <td>N</td>\n",
       "      <td>A</td>\n",
       "      <td>Female</td>\n",
       "      <td>36-40</td>\n",
       "      <td>NaN</td>\n",
       "      <td>NaN</td>\n",
       "      <td>NaN</td>\n",
       "      <td>NaN</td>\n",
       "      <td>NaN</td>\n",
       "    </tr>\n",
       "    <tr>\n",
       "      <th>4</th>\n",
       "      <td>5</td>\n",
       "      <td>Age Retirement</td>\n",
       "      <td>05/2012</td>\n",
       "      <td>1970</td>\n",
       "      <td>1989</td>\n",
       "      <td>Head of Curriculum/Head of Special Education</td>\n",
       "      <td>NaN</td>\n",
       "      <td>South East</td>\n",
       "      <td>NaN</td>\n",
       "      <td>Permanent Full-time</td>\n",
       "      <td>...</td>\n",
       "      <td>N</td>\n",
       "      <td>A</td>\n",
       "      <td>M</td>\n",
       "      <td>Female</td>\n",
       "      <td>61 or older</td>\n",
       "      <td>NaN</td>\n",
       "      <td>NaN</td>\n",
       "      <td>NaN</td>\n",
       "      <td>NaN</td>\n",
       "      <td>NaN</td>\n",
       "    </tr>\n",
       "  </tbody>\n",
       "</table>\n",
       "<p>5 rows × 56 columns</p>\n",
       "</div>"
      ],
      "text/plain": [
       "   ID                    SeparationType Cease Date DETE Start Date  \\\n",
       "0   1             Ill Health Retirement    08/2012            1984   \n",
       "1   2  Voluntary Early Retirement (VER)    08/2012      Not Stated   \n",
       "2   3  Voluntary Early Retirement (VER)    05/2012            2011   \n",
       "3   4         Resignation-Other reasons    05/2012            2005   \n",
       "4   5                    Age Retirement    05/2012            1970   \n",
       "\n",
       "  Role Start Date                                      Position  \\\n",
       "0            2004                                Public Servant   \n",
       "1      Not Stated                                Public Servant   \n",
       "2            2011                               Schools Officer   \n",
       "3            2006                                       Teacher   \n",
       "4            1989  Head of Curriculum/Head of Special Education   \n",
       "\n",
       "  Classification              Region                      Business Unit  \\\n",
       "0        A01-A04      Central Office  Corporate Strategy and Peformance   \n",
       "1        AO5-AO7      Central Office  Corporate Strategy and Peformance   \n",
       "2            NaN      Central Office               Education Queensland   \n",
       "3        Primary  Central Queensland                                NaN   \n",
       "4            NaN          South East                                NaN   \n",
       "\n",
       "     Employment Status  ...   Kept informed  Wellness programs  \\\n",
       "0  Permanent Full-time  ...               N                  N   \n",
       "1  Permanent Full-time  ...               N                  N   \n",
       "2  Permanent Full-time  ...               N                  N   \n",
       "3  Permanent Full-time  ...               A                  N   \n",
       "4  Permanent Full-time  ...               N                  A   \n",
       "\n",
       "   Health & Safety  Gender          Age  Aboriginal  Torres Strait  South Sea  \\\n",
       "0                N    Male        56-60         NaN            NaN        NaN   \n",
       "1                N    Male        56-60         NaN            NaN        NaN   \n",
       "2                N    Male  61 or older         NaN            NaN        NaN   \n",
       "3                A  Female        36-40         NaN            NaN        NaN   \n",
       "4                M  Female  61 or older         NaN            NaN        NaN   \n",
       "\n",
       "   Disability  NESB  \n",
       "0         NaN   Yes  \n",
       "1         NaN   NaN  \n",
       "2         NaN   NaN  \n",
       "3         NaN   NaN  \n",
       "4         NaN   NaN  \n",
       "\n",
       "[5 rows x 56 columns]"
      ]
     },
     "execution_count": 4,
     "metadata": {},
     "output_type": "execute_result"
    }
   ],
   "source": [
    "dete_survey.head()"
   ]
  },
  {
   "cell_type": "code",
   "execution_count": 5,
   "metadata": {},
   "outputs": [
    {
     "data": {
      "text/html": [
       "<div>\n",
       "<style scoped>\n",
       "    .dataframe tbody tr th:only-of-type {\n",
       "        vertical-align: middle;\n",
       "    }\n",
       "\n",
       "    .dataframe tbody tr th {\n",
       "        vertical-align: top;\n",
       "    }\n",
       "\n",
       "    .dataframe thead th {\n",
       "        text-align: right;\n",
       "    }\n",
       "</style>\n",
       "<table border=\"1\" class=\"dataframe\">\n",
       "  <thead>\n",
       "    <tr style=\"text-align: right;\">\n",
       "      <th></th>\n",
       "      <th>Record ID</th>\n",
       "      <th>Institute</th>\n",
       "      <th>WorkArea</th>\n",
       "      <th>CESSATION YEAR</th>\n",
       "      <th>Reason for ceasing employment</th>\n",
       "      <th>Contributing Factors. Career Move - Public Sector</th>\n",
       "      <th>Contributing Factors. Career Move - Private Sector</th>\n",
       "      <th>Contributing Factors. Career Move - Self-employment</th>\n",
       "      <th>Contributing Factors. Ill Health</th>\n",
       "      <th>Contributing Factors. Maternity/Family</th>\n",
       "      <th>...</th>\n",
       "      <th>Workplace. Topic:Does your workplace promote a work culture free from all forms of unlawful discrimination?</th>\n",
       "      <th>Workplace. Topic:Does your workplace promote and practice the principles of employment equity?</th>\n",
       "      <th>Workplace. Topic:Does your workplace value the diversity of its employees?</th>\n",
       "      <th>Workplace. Topic:Would you recommend the Institute as an employer to others?</th>\n",
       "      <th>Gender. What is your Gender?</th>\n",
       "      <th>CurrentAge. Current Age</th>\n",
       "      <th>Employment Type. Employment Type</th>\n",
       "      <th>Classification. Classification</th>\n",
       "      <th>LengthofServiceOverall. Overall Length of Service at Institute (in years)</th>\n",
       "      <th>LengthofServiceCurrent. Length of Service at current workplace (in years)</th>\n",
       "    </tr>\n",
       "  </thead>\n",
       "  <tbody>\n",
       "    <tr>\n",
       "      <th>697</th>\n",
       "      <td>6.350668e+17</td>\n",
       "      <td>Barrier Reef Institute of TAFE</td>\n",
       "      <td>Delivery (teaching)</td>\n",
       "      <td>2013.0</td>\n",
       "      <td>Resignation</td>\n",
       "      <td>Career Move - Public Sector</td>\n",
       "      <td>-</td>\n",
       "      <td>-</td>\n",
       "      <td>-</td>\n",
       "      <td>-</td>\n",
       "      <td>...</td>\n",
       "      <td>Yes</td>\n",
       "      <td>Yes</td>\n",
       "      <td>Yes</td>\n",
       "      <td>Yes</td>\n",
       "      <td>Male</td>\n",
       "      <td>51-55</td>\n",
       "      <td>Temporary Full-time</td>\n",
       "      <td>Teacher (including LVT)</td>\n",
       "      <td>1-2</td>\n",
       "      <td>1-2</td>\n",
       "    </tr>\n",
       "    <tr>\n",
       "      <th>698</th>\n",
       "      <td>6.350677e+17</td>\n",
       "      <td>Southern Queensland Institute of TAFE</td>\n",
       "      <td>Non-Delivery (corporate)</td>\n",
       "      <td>2013.0</td>\n",
       "      <td>Resignation</td>\n",
       "      <td>Career Move - Public Sector</td>\n",
       "      <td>-</td>\n",
       "      <td>-</td>\n",
       "      <td>-</td>\n",
       "      <td>-</td>\n",
       "      <td>...</td>\n",
       "      <td>NaN</td>\n",
       "      <td>NaN</td>\n",
       "      <td>NaN</td>\n",
       "      <td>NaN</td>\n",
       "      <td>NaN</td>\n",
       "      <td>NaN</td>\n",
       "      <td>NaN</td>\n",
       "      <td>NaN</td>\n",
       "      <td>NaN</td>\n",
       "      <td>NaN</td>\n",
       "    </tr>\n",
       "    <tr>\n",
       "      <th>699</th>\n",
       "      <td>6.350704e+17</td>\n",
       "      <td>Tropical North Institute of TAFE</td>\n",
       "      <td>Delivery (teaching)</td>\n",
       "      <td>2013.0</td>\n",
       "      <td>Resignation</td>\n",
       "      <td>-</td>\n",
       "      <td>-</td>\n",
       "      <td>-</td>\n",
       "      <td>-</td>\n",
       "      <td>-</td>\n",
       "      <td>...</td>\n",
       "      <td>Yes</td>\n",
       "      <td>Yes</td>\n",
       "      <td>Yes</td>\n",
       "      <td>Yes</td>\n",
       "      <td>Female</td>\n",
       "      <td>51-55</td>\n",
       "      <td>Permanent Full-time</td>\n",
       "      <td>Teacher (including LVT)</td>\n",
       "      <td>5-6</td>\n",
       "      <td>1-2</td>\n",
       "    </tr>\n",
       "    <tr>\n",
       "      <th>700</th>\n",
       "      <td>6.350712e+17</td>\n",
       "      <td>Southbank Institute of Technology</td>\n",
       "      <td>Non-Delivery (corporate)</td>\n",
       "      <td>2013.0</td>\n",
       "      <td>Contract Expired</td>\n",
       "      <td>NaN</td>\n",
       "      <td>NaN</td>\n",
       "      <td>NaN</td>\n",
       "      <td>NaN</td>\n",
       "      <td>NaN</td>\n",
       "      <td>...</td>\n",
       "      <td>No</td>\n",
       "      <td>No</td>\n",
       "      <td>Yes</td>\n",
       "      <td>No</td>\n",
       "      <td>Female</td>\n",
       "      <td>41  45</td>\n",
       "      <td>Temporary Full-time</td>\n",
       "      <td>Professional Officer (PO)</td>\n",
       "      <td>1-2</td>\n",
       "      <td>1-2</td>\n",
       "    </tr>\n",
       "    <tr>\n",
       "      <th>701</th>\n",
       "      <td>6.350730e+17</td>\n",
       "      <td>Tropical North Institute of TAFE</td>\n",
       "      <td>Non-Delivery (corporate)</td>\n",
       "      <td>2013.0</td>\n",
       "      <td>Resignation</td>\n",
       "      <td>-</td>\n",
       "      <td>-</td>\n",
       "      <td>Career Move - Self-employment</td>\n",
       "      <td>-</td>\n",
       "      <td>-</td>\n",
       "      <td>...</td>\n",
       "      <td>Yes</td>\n",
       "      <td>Yes</td>\n",
       "      <td>Yes</td>\n",
       "      <td>Yes</td>\n",
       "      <td>Female</td>\n",
       "      <td>26  30</td>\n",
       "      <td>Contract/casual</td>\n",
       "      <td>Administration (AO)</td>\n",
       "      <td>3-4</td>\n",
       "      <td>1-2</td>\n",
       "    </tr>\n",
       "  </tbody>\n",
       "</table>\n",
       "<p>5 rows × 72 columns</p>\n",
       "</div>"
      ],
      "text/plain": [
       "        Record ID                              Institute  \\\n",
       "697  6.350668e+17         Barrier Reef Institute of TAFE   \n",
       "698  6.350677e+17  Southern Queensland Institute of TAFE   \n",
       "699  6.350704e+17       Tropical North Institute of TAFE   \n",
       "700  6.350712e+17      Southbank Institute of Technology   \n",
       "701  6.350730e+17       Tropical North Institute of TAFE   \n",
       "\n",
       "                     WorkArea  CESSATION YEAR Reason for ceasing employment  \\\n",
       "697       Delivery (teaching)          2013.0                   Resignation   \n",
       "698  Non-Delivery (corporate)          2013.0                   Resignation   \n",
       "699       Delivery (teaching)          2013.0                   Resignation   \n",
       "700  Non-Delivery (corporate)          2013.0              Contract Expired   \n",
       "701  Non-Delivery (corporate)          2013.0                   Resignation   \n",
       "\n",
       "    Contributing Factors. Career Move - Public Sector   \\\n",
       "697                        Career Move - Public Sector   \n",
       "698                        Career Move - Public Sector   \n",
       "699                                                  -   \n",
       "700                                                NaN   \n",
       "701                                                  -   \n",
       "\n",
       "    Contributing Factors. Career Move - Private Sector   \\\n",
       "697                                                  -    \n",
       "698                                                  -    \n",
       "699                                                  -    \n",
       "700                                                NaN    \n",
       "701                                                  -    \n",
       "\n",
       "    Contributing Factors. Career Move - Self-employment  \\\n",
       "697                                                  -    \n",
       "698                                                  -    \n",
       "699                                                  -    \n",
       "700                                                NaN    \n",
       "701                      Career Move - Self-employment    \n",
       "\n",
       "    Contributing Factors. Ill Health Contributing Factors. Maternity/Family  \\\n",
       "697                                -                                      -   \n",
       "698                                -                                      -   \n",
       "699                                -                                      -   \n",
       "700                              NaN                                    NaN   \n",
       "701                                -                                      -   \n",
       "\n",
       "                                       ...                                     \\\n",
       "697                                    ...                                      \n",
       "698                                    ...                                      \n",
       "699                                    ...                                      \n",
       "700                                    ...                                      \n",
       "701                                    ...                                      \n",
       "\n",
       "    Workplace. Topic:Does your workplace promote a work culture free from all forms of unlawful discrimination?  \\\n",
       "697                                                Yes                                                            \n",
       "698                                                NaN                                                            \n",
       "699                                                Yes                                                            \n",
       "700                                                 No                                                            \n",
       "701                                                Yes                                                            \n",
       "\n",
       "    Workplace. Topic:Does your workplace promote and practice the principles of employment equity?  \\\n",
       "697                                                Yes                                               \n",
       "698                                                NaN                                               \n",
       "699                                                Yes                                               \n",
       "700                                                 No                                               \n",
       "701                                                Yes                                               \n",
       "\n",
       "    Workplace. Topic:Does your workplace value the diversity of its employees?  \\\n",
       "697                                                Yes                           \n",
       "698                                                NaN                           \n",
       "699                                                Yes                           \n",
       "700                                                Yes                           \n",
       "701                                                Yes                           \n",
       "\n",
       "    Workplace. Topic:Would you recommend the Institute as an employer to others?  \\\n",
       "697                                                Yes                             \n",
       "698                                                NaN                             \n",
       "699                                                Yes                             \n",
       "700                                                 No                             \n",
       "701                                                Yes                             \n",
       "\n",
       "    Gender. What is your Gender? CurrentAge. Current Age  \\\n",
       "697                         Male                   51-55   \n",
       "698                          NaN                     NaN   \n",
       "699                       Female                   51-55   \n",
       "700                       Female                  41  45   \n",
       "701                       Female                  26  30   \n",
       "\n",
       "    Employment Type. Employment Type Classification. Classification  \\\n",
       "697              Temporary Full-time        Teacher (including LVT)   \n",
       "698                              NaN                            NaN   \n",
       "699              Permanent Full-time        Teacher (including LVT)   \n",
       "700              Temporary Full-time      Professional Officer (PO)   \n",
       "701                  Contract/casual            Administration (AO)   \n",
       "\n",
       "    LengthofServiceOverall. Overall Length of Service at Institute (in years)  \\\n",
       "697                                                1-2                          \n",
       "698                                                NaN                          \n",
       "699                                                5-6                          \n",
       "700                                                1-2                          \n",
       "701                                                3-4                          \n",
       "\n",
       "    LengthofServiceCurrent. Length of Service at current workplace (in years)  \n",
       "697                                                1-2                         \n",
       "698                                                NaN                         \n",
       "699                                                1-2                         \n",
       "700                                                1-2                         \n",
       "701                                                1-2                         \n",
       "\n",
       "[5 rows x 72 columns]"
      ]
     },
     "execution_count": 5,
     "metadata": {},
     "output_type": "execute_result"
    }
   ],
   "source": [
    "tafe_survey.tail()"
   ]
  },
  {
   "cell_type": "code",
   "execution_count": 6,
   "metadata": {},
   "outputs": [
    {
     "data": {
      "text/plain": [
       "Record ID                                                                                                                                                          0\n",
       "Institute                                                                                                                                                          0\n",
       "WorkArea                                                                                                                                                           0\n",
       "CESSATION YEAR                                                                                                                                                     7\n",
       "Reason for ceasing employment                                                                                                                                      1\n",
       "Contributing Factors. Career Move - Public Sector                                                                                                                265\n",
       "Contributing Factors. Career Move - Private Sector                                                                                                               265\n",
       "Contributing Factors. Career Move - Self-employment                                                                                                              265\n",
       "Contributing Factors. Ill Health                                                                                                                                 265\n",
       "Contributing Factors. Maternity/Family                                                                                                                           265\n",
       "Contributing Factors. Dissatisfaction                                                                                                                            265\n",
       "Contributing Factors. Job Dissatisfaction                                                                                                                        265\n",
       "Contributing Factors. Interpersonal Conflict                                                                                                                     265\n",
       "Contributing Factors. Study                                                                                                                                      265\n",
       "Contributing Factors. Travel                                                                                                                                     265\n",
       "Contributing Factors. Other                                                                                                                                      265\n",
       "Contributing Factors. NONE                                                                                                                                       265\n",
       "Main Factor. Which of these was the main factor for leaving?                                                                                                     589\n",
       "InstituteViews. Topic:1. I feel the senior leadership had a clear vision and direction                                                                            94\n",
       "InstituteViews. Topic:2. I was given access to skills training to help me do my job better                                                                        89\n",
       "InstituteViews. Topic:3. I was given adequate opportunities for personal development                                                                              92\n",
       "InstituteViews. Topic:4. I was given adequate opportunities for promotion within %Institute]Q25LBL%                                                               94\n",
       "InstituteViews. Topic:5. I felt the salary for the job was right for the responsibilities I had                                                                   87\n",
       "InstituteViews. Topic:6. The organisation recognised when staff did good work                                                                                     95\n",
       "InstituteViews. Topic:7. Management was generally supportive of me                                                                                                88\n",
       "InstituteViews. Topic:8. Management was generally supportive of my team                                                                                           94\n",
       "InstituteViews. Topic:9. I was kept informed of the changes in the organisation which would affect me                                                             92\n",
       "InstituteViews. Topic:10. Staff morale was positive within the Institute                                                                                         100\n",
       "InstituteViews. Topic:11. If I had a workplace issue it was dealt with quickly                                                                                   101\n",
       "InstituteViews. Topic:12. If I had a workplace issue it was dealt with efficiently                                                                               105\n",
       "                                                                                                                                                                ... \n",
       "WorkUnitViews. Topic:25. My job allowed me to balance the demands of work and family to my satisfaction                                                           91\n",
       "WorkUnitViews. Topic:26. My supervisor gave me adequate personal recognition and feedback on my performance                                                       96\n",
       "WorkUnitViews. Topic:27. My working environment was satisfactory e.g. sufficient space, good lighting, suitable seating and working area                          92\n",
       "WorkUnitViews. Topic:28. I was given the opportunity to mentor and coach others in order for me to pass on my skills and knowledge prior to my cessation date     93\n",
       "WorkUnitViews. Topic:29. There was adequate communication between staff in my unit                                                                                99\n",
       "WorkUnitViews. Topic:30. Staff morale was positive within my work unit                                                                                            96\n",
       "Induction. Did you undertake Workplace Induction?                                                                                                                 83\n",
       "InductionInfo. Topic:Did you undertake a Corporate Induction?                                                                                                    270\n",
       "InductionInfo. Topic:Did you undertake a Institute Induction?                                                                                                    219\n",
       "InductionInfo. Topic: Did you undertake Team Induction?                                                                                                          262\n",
       "InductionInfo. Face to Face Topic:Did you undertake a Corporate Induction; Category:How it was conducted?                                                        147\n",
       "InductionInfo. On-line Topic:Did you undertake a Corporate Induction; Category:How it was conducted?                                                             147\n",
       "InductionInfo. Induction Manual Topic:Did you undertake a Corporate Induction?                                                                                   147\n",
       "InductionInfo. Face to Face Topic:Did you undertake a Institute Induction?                                                                                       172\n",
       "InductionInfo. On-line Topic:Did you undertake a Institute Induction?                                                                                            147\n",
       "InductionInfo. Induction Manual Topic:Did you undertake a Institute Induction?                                                                                   149\n",
       "InductionInfo. Face to Face Topic: Did you undertake Team Induction; Category?                                                                                   147\n",
       "InductionInfo. On-line Topic: Did you undertake Team Induction?process you undertook and how it was conducted.]                                                  147\n",
       "InductionInfo. Induction Manual Topic: Did you undertake Team Induction?                                                                                         147\n",
       "Workplace. Topic:Did you and your Manager develop a Performance and Professional Development Plan (PPDP)?                                                         94\n",
       "Workplace. Topic:Does your workplace promote a work culture free from all forms of unlawful discrimination?                                                      108\n",
       "Workplace. Topic:Does your workplace promote and practice the principles of employment equity?                                                                   115\n",
       "Workplace. Topic:Does your workplace value the diversity of its employees?                                                                                       116\n",
       "Workplace. Topic:Would you recommend the Institute as an employer to others?                                                                                     121\n",
       "Gender. What is your Gender?                                                                                                                                     106\n",
       "CurrentAge. Current Age                                                                                                                                          106\n",
       "Employment Type. Employment Type                                                                                                                                 106\n",
       "Classification. Classification                                                                                                                                   106\n",
       "LengthofServiceOverall. Overall Length of Service at Institute (in years)                                                                                        106\n",
       "LengthofServiceCurrent. Length of Service at current workplace (in years)                                                                                        106\n",
       "Length: 72, dtype: int64"
      ]
     },
     "execution_count": 6,
     "metadata": {},
     "output_type": "execute_result"
    }
   ],
   "source": [
    "tafe_survey.isnull().sum()"
   ]
  },
  {
   "cell_type": "markdown",
   "metadata": {},
   "source": [
    "After thorough reading, I found that there are some values that are listed as 'Not Stated', but we would like the values to be NaN. So I'm going to read the dataset in again.\n",
    "\n",
    "I also found many columns that we don't need to answer our questions, so I am going to drop them."
   ]
  },
  {
   "cell_type": "code",
   "execution_count": 7,
   "metadata": {
    "collapsed": true
   },
   "outputs": [],
   "source": [
    "dete_survey = pd.read_csv('dete_survey.csv', na_values = 'Not Stated')"
   ]
  },
  {
   "cell_type": "code",
   "execution_count": 8,
   "metadata": {
    "collapsed": true
   },
   "outputs": [],
   "source": [
    "dete_survey_updated = dete_survey.drop(dete_survey.columns[28:49], axis = 1)"
   ]
  },
  {
   "cell_type": "code",
   "execution_count": 9,
   "metadata": {
    "collapsed": true
   },
   "outputs": [],
   "source": [
    "tafe_survey_updated = tafe_survey.drop(tafe_survey.columns[17:66], axis =1)"
   ]
  },
  {
   "cell_type": "markdown",
   "metadata": {},
   "source": [
    "Updating column names from both datasets to standardise them. This will allow us to merge the two datasets without having any errors or duplicate columns. \n",
    "\n",
    "Going to make all letters lowercase, remove whitespace and replace any spaces with underscores in dete_survey_updated.\n",
    "Going to rename some columns from tafe_survey_updated.\n"
   ]
  },
  {
   "cell_type": "code",
   "execution_count": 10,
   "metadata": {},
   "outputs": [],
   "source": [
    "dete_survey_updated.columns = dete_survey_updated.columns.str.lower().str.strip().str.replace(' ','_')"
   ]
  },
  {
   "cell_type": "code",
   "execution_count": 11,
   "metadata": {},
   "outputs": [
    {
     "data": {
      "text/plain": [
       "Index(['id', 'separationtype', 'cease_date', 'dete_start_date',\n",
       "       'role_start_date', 'position', 'classification', 'region',\n",
       "       'business_unit', 'employment_status', 'career_move_to_public_sector',\n",
       "       'career_move_to_private_sector', 'interpersonal_conflicts',\n",
       "       'job_dissatisfaction', 'dissatisfaction_with_the_department',\n",
       "       'physical_work_environment', 'lack_of_recognition',\n",
       "       'lack_of_job_security', 'work_location', 'employment_conditions',\n",
       "       'maternity/family', 'relocation', 'study/travel', 'ill_health',\n",
       "       'traumatic_incident', 'work_life_balance', 'workload',\n",
       "       'none_of_the_above', 'gender', 'age', 'aboriginal', 'torres_strait',\n",
       "       'south_sea', 'disability', 'nesb'],\n",
       "      dtype='object')"
      ]
     },
     "execution_count": 11,
     "metadata": {},
     "output_type": "execute_result"
    }
   ],
   "source": [
    "dete_survey_updated.columns"
   ]
  },
  {
   "cell_type": "code",
   "execution_count": 12,
   "metadata": {},
   "outputs": [
    {
     "data": {
      "text/plain": [
       "Index(['id', 'Institute', 'WorkArea', 'cease_date', 'separationtype',\n",
       "       'Contributing Factors. Career Move - Public Sector ',\n",
       "       'Contributing Factors. Career Move - Private Sector ',\n",
       "       'Contributing Factors. Career Move - Self-employment',\n",
       "       'Contributing Factors. Ill Health',\n",
       "       'Contributing Factors. Maternity/Family',\n",
       "       'Contributing Factors. Dissatisfaction',\n",
       "       'Contributing Factors. Job Dissatisfaction',\n",
       "       'Contributing Factors. Interpersonal Conflict',\n",
       "       'Contributing Factors. Study', 'Contributing Factors. Travel',\n",
       "       'Contributing Factors. Other', 'Contributing Factors. NONE', 'gender',\n",
       "       'age', 'employment_status', 'position', 'institute_service',\n",
       "       'role_service'],\n",
       "      dtype='object')"
      ]
     },
     "execution_count": 12,
     "metadata": {},
     "output_type": "execute_result"
    }
   ],
   "source": [
    "mapping = {'Record ID': 'id', 'CESSATION YEAR': 'cease_date', 'Reason for ceasing employment': 'separationtype', 'Gender. What is your Gender?': 'gender', 'CurrentAge. Current Age': 'age',\n",
    "       'Employment Type. Employment Type': 'employment_status',\n",
    "       'Classification. Classification': 'position',\n",
    "       'LengthofServiceOverall. Overall Length of Service at Institute (in years)': 'institute_service',\n",
    "       'LengthofServiceCurrent. Length of Service at current workplace (in years)': 'role_service'}\n",
    "\n",
    "tafe_survey_updated = tafe_survey_updated.rename(mapping,axis = 1)\n",
    "tafe_survey_updated.columns"
   ]
  },
  {
   "cell_type": "markdown",
   "metadata": {
    "collapsed": true
   },
   "source": [
    "Since our questions were about resignation, I will filter the 'SeparationType' column to only include strings that have 'resignation' in them."
   ]
  },
  {
   "cell_type": "code",
   "execution_count": 13,
   "metadata": {},
   "outputs": [
    {
     "data": {
      "text/plain": [
       "array(['Ill Health Retirement', 'Voluntary Early Retirement (VER)',\n",
       "       'Resignation-Other reasons', 'Age Retirement',\n",
       "       'Resignation-Other employer',\n",
       "       'Resignation-Move overseas/interstate', 'Other',\n",
       "       'Contract Expired', 'Termination'], dtype=object)"
      ]
     },
     "execution_count": 13,
     "metadata": {},
     "output_type": "execute_result"
    }
   ],
   "source": [
    "dete_survey_updated['separationtype'].unique()"
   ]
  },
  {
   "cell_type": "code",
   "execution_count": 14,
   "metadata": {},
   "outputs": [
    {
     "data": {
      "text/plain": [
       "array(['Contract Expired', 'Retirement', 'Resignation',\n",
       "       'Retrenchment/ Redundancy', 'Termination', 'Transfer', nan],\n",
       "      dtype=object)"
      ]
     },
     "execution_count": 14,
     "metadata": {},
     "output_type": "execute_result"
    }
   ],
   "source": [
    "tafe_survey_updated['separationtype'].unique()"
   ]
  },
  {
   "cell_type": "markdown",
   "metadata": {},
   "source": [
    "Since 'Resignation' in the DETE dataframe occurs as the first word in the string, I am going to split it on the '-' and only select the first part of the string."
   ]
  },
  {
   "cell_type": "code",
   "execution_count": 15,
   "metadata": {
    "collapsed": true
   },
   "outputs": [],
   "source": [
    "dete_survey_updated['separationtype'] = dete_survey_updated['separationtype'].str.split('-').str[0]"
   ]
  },
  {
   "cell_type": "code",
   "execution_count": 16,
   "metadata": {},
   "outputs": [
    {
     "data": {
      "text/plain": [
       "0               Ill Health Retirement\n",
       "1    Voluntary Early Retirement (VER)\n",
       "2    Voluntary Early Retirement (VER)\n",
       "3                         Resignation\n",
       "4                      Age Retirement\n",
       "Name: separationtype, dtype: object"
      ]
     },
     "execution_count": 16,
     "metadata": {},
     "output_type": "execute_result"
    }
   ],
   "source": [
    "dete_survey_updated['separationtype'].head()"
   ]
  },
  {
   "cell_type": "code",
   "execution_count": 17,
   "metadata": {
    "collapsed": true
   },
   "outputs": [],
   "source": [
    "dete_resignations = dete_survey_updated[dete_survey_updated['separationtype'] == 'Resignation'].copy()\n",
    "#Filtering all rows except those that have seperation type as Resignation"
   ]
  },
  {
   "cell_type": "code",
   "execution_count": 18,
   "metadata": {
    "collapsed": true
   },
   "outputs": [],
   "source": [
    "tafe_resignation = tafe_survey_updated[tafe_survey_updated['separationtype']=='Resignation']"
   ]
  },
  {
   "cell_type": "code",
   "execution_count": 19,
   "metadata": {},
   "outputs": [
    {
     "data": {
      "text/html": [
       "<div>\n",
       "<style scoped>\n",
       "    .dataframe tbody tr th:only-of-type {\n",
       "        vertical-align: middle;\n",
       "    }\n",
       "\n",
       "    .dataframe tbody tr th {\n",
       "        vertical-align: top;\n",
       "    }\n",
       "\n",
       "    .dataframe thead th {\n",
       "        text-align: right;\n",
       "    }\n",
       "</style>\n",
       "<table border=\"1\" class=\"dataframe\">\n",
       "  <thead>\n",
       "    <tr style=\"text-align: right;\">\n",
       "      <th></th>\n",
       "      <th>id</th>\n",
       "      <th>separationtype</th>\n",
       "      <th>cease_date</th>\n",
       "      <th>dete_start_date</th>\n",
       "      <th>role_start_date</th>\n",
       "      <th>position</th>\n",
       "      <th>classification</th>\n",
       "      <th>region</th>\n",
       "      <th>business_unit</th>\n",
       "      <th>employment_status</th>\n",
       "      <th>...</th>\n",
       "      <th>work_life_balance</th>\n",
       "      <th>workload</th>\n",
       "      <th>none_of_the_above</th>\n",
       "      <th>gender</th>\n",
       "      <th>age</th>\n",
       "      <th>aboriginal</th>\n",
       "      <th>torres_strait</th>\n",
       "      <th>south_sea</th>\n",
       "      <th>disability</th>\n",
       "      <th>nesb</th>\n",
       "    </tr>\n",
       "  </thead>\n",
       "  <tbody>\n",
       "    <tr>\n",
       "      <th>3</th>\n",
       "      <td>4</td>\n",
       "      <td>Resignation</td>\n",
       "      <td>05/2012</td>\n",
       "      <td>2005.0</td>\n",
       "      <td>2006.0</td>\n",
       "      <td>Teacher</td>\n",
       "      <td>Primary</td>\n",
       "      <td>Central Queensland</td>\n",
       "      <td>NaN</td>\n",
       "      <td>Permanent Full-time</td>\n",
       "      <td>...</td>\n",
       "      <td>False</td>\n",
       "      <td>False</td>\n",
       "      <td>False</td>\n",
       "      <td>Female</td>\n",
       "      <td>36-40</td>\n",
       "      <td>NaN</td>\n",
       "      <td>NaN</td>\n",
       "      <td>NaN</td>\n",
       "      <td>NaN</td>\n",
       "      <td>NaN</td>\n",
       "    </tr>\n",
       "    <tr>\n",
       "      <th>5</th>\n",
       "      <td>6</td>\n",
       "      <td>Resignation</td>\n",
       "      <td>05/2012</td>\n",
       "      <td>1994.0</td>\n",
       "      <td>1997.0</td>\n",
       "      <td>Guidance Officer</td>\n",
       "      <td>NaN</td>\n",
       "      <td>Central Office</td>\n",
       "      <td>Education Queensland</td>\n",
       "      <td>Permanent Full-time</td>\n",
       "      <td>...</td>\n",
       "      <td>False</td>\n",
       "      <td>False</td>\n",
       "      <td>False</td>\n",
       "      <td>Female</td>\n",
       "      <td>41-45</td>\n",
       "      <td>NaN</td>\n",
       "      <td>NaN</td>\n",
       "      <td>NaN</td>\n",
       "      <td>NaN</td>\n",
       "      <td>NaN</td>\n",
       "    </tr>\n",
       "    <tr>\n",
       "      <th>8</th>\n",
       "      <td>9</td>\n",
       "      <td>Resignation</td>\n",
       "      <td>07/2012</td>\n",
       "      <td>2009.0</td>\n",
       "      <td>2009.0</td>\n",
       "      <td>Teacher</td>\n",
       "      <td>Secondary</td>\n",
       "      <td>North Queensland</td>\n",
       "      <td>NaN</td>\n",
       "      <td>Permanent Full-time</td>\n",
       "      <td>...</td>\n",
       "      <td>False</td>\n",
       "      <td>False</td>\n",
       "      <td>False</td>\n",
       "      <td>Female</td>\n",
       "      <td>31-35</td>\n",
       "      <td>NaN</td>\n",
       "      <td>NaN</td>\n",
       "      <td>NaN</td>\n",
       "      <td>NaN</td>\n",
       "      <td>NaN</td>\n",
       "    </tr>\n",
       "    <tr>\n",
       "      <th>9</th>\n",
       "      <td>10</td>\n",
       "      <td>Resignation</td>\n",
       "      <td>2012</td>\n",
       "      <td>1997.0</td>\n",
       "      <td>2008.0</td>\n",
       "      <td>Teacher Aide</td>\n",
       "      <td>NaN</td>\n",
       "      <td>NaN</td>\n",
       "      <td>NaN</td>\n",
       "      <td>Permanent Part-time</td>\n",
       "      <td>...</td>\n",
       "      <td>False</td>\n",
       "      <td>False</td>\n",
       "      <td>False</td>\n",
       "      <td>Female</td>\n",
       "      <td>46-50</td>\n",
       "      <td>NaN</td>\n",
       "      <td>NaN</td>\n",
       "      <td>NaN</td>\n",
       "      <td>NaN</td>\n",
       "      <td>NaN</td>\n",
       "    </tr>\n",
       "    <tr>\n",
       "      <th>11</th>\n",
       "      <td>12</td>\n",
       "      <td>Resignation</td>\n",
       "      <td>2012</td>\n",
       "      <td>2009.0</td>\n",
       "      <td>2009.0</td>\n",
       "      <td>Teacher</td>\n",
       "      <td>Secondary</td>\n",
       "      <td>Far North Queensland</td>\n",
       "      <td>NaN</td>\n",
       "      <td>Permanent Full-time</td>\n",
       "      <td>...</td>\n",
       "      <td>False</td>\n",
       "      <td>False</td>\n",
       "      <td>False</td>\n",
       "      <td>Male</td>\n",
       "      <td>31-35</td>\n",
       "      <td>NaN</td>\n",
       "      <td>NaN</td>\n",
       "      <td>NaN</td>\n",
       "      <td>NaN</td>\n",
       "      <td>NaN</td>\n",
       "    </tr>\n",
       "  </tbody>\n",
       "</table>\n",
       "<p>5 rows × 35 columns</p>\n",
       "</div>"
      ],
      "text/plain": [
       "    id separationtype cease_date  dete_start_date  role_start_date  \\\n",
       "3    4    Resignation    05/2012           2005.0           2006.0   \n",
       "5    6    Resignation    05/2012           1994.0           1997.0   \n",
       "8    9    Resignation    07/2012           2009.0           2009.0   \n",
       "9   10    Resignation       2012           1997.0           2008.0   \n",
       "11  12    Resignation       2012           2009.0           2009.0   \n",
       "\n",
       "            position classification                region  \\\n",
       "3            Teacher        Primary    Central Queensland   \n",
       "5   Guidance Officer            NaN        Central Office   \n",
       "8            Teacher      Secondary      North Queensland   \n",
       "9       Teacher Aide            NaN                   NaN   \n",
       "11           Teacher      Secondary  Far North Queensland   \n",
       "\n",
       "           business_unit    employment_status  ...   work_life_balance  \\\n",
       "3                    NaN  Permanent Full-time  ...               False   \n",
       "5   Education Queensland  Permanent Full-time  ...               False   \n",
       "8                    NaN  Permanent Full-time  ...               False   \n",
       "9                    NaN  Permanent Part-time  ...               False   \n",
       "11                   NaN  Permanent Full-time  ...               False   \n",
       "\n",
       "    workload  none_of_the_above  gender    age  aboriginal  torres_strait  \\\n",
       "3      False              False  Female  36-40         NaN            NaN   \n",
       "5      False              False  Female  41-45         NaN            NaN   \n",
       "8      False              False  Female  31-35         NaN            NaN   \n",
       "9      False              False  Female  46-50         NaN            NaN   \n",
       "11     False              False    Male  31-35         NaN            NaN   \n",
       "\n",
       "    south_sea  disability  nesb  \n",
       "3         NaN         NaN   NaN  \n",
       "5         NaN         NaN   NaN  \n",
       "8         NaN         NaN   NaN  \n",
       "9         NaN         NaN   NaN  \n",
       "11        NaN         NaN   NaN  \n",
       "\n",
       "[5 rows x 35 columns]"
      ]
     },
     "execution_count": 19,
     "metadata": {},
     "output_type": "execute_result"
    }
   ],
   "source": [
    "dete_resignations.head()\n",
    "#Checking whether it worked"
   ]
  },
  {
   "cell_type": "markdown",
   "metadata": {},
   "source": [
    "Going to standardise the following columns to make sure their values are similar:\n",
    "1) Cease_date (in both dataframes)\n",
    "2) dete_start_date in DETE dataframe"
   ]
  },
  {
   "cell_type": "code",
   "execution_count": 20,
   "metadata": {},
   "outputs": [
    {
     "data": {
      "text/plain": [
       "2012       126\n",
       "2013        74\n",
       "01/2014     22\n",
       "12/2013     17\n",
       "06/2013     14\n",
       "09/2013     11\n",
       "07/2013      9\n",
       "11/2013      9\n",
       "10/2013      6\n",
       "08/2013      4\n",
       "05/2012      2\n",
       "05/2013      2\n",
       "2010         1\n",
       "07/2012      1\n",
       "07/2006      1\n",
       "09/2010      1\n",
       "Name: cease_date, dtype: int64"
      ]
     },
     "execution_count": 20,
     "metadata": {},
     "output_type": "execute_result"
    }
   ],
   "source": [
    "dete_resignations['cease_date'].value_counts()"
   ]
  },
  {
   "cell_type": "code",
   "execution_count": 21,
   "metadata": {
    "collapsed": true
   },
   "outputs": [],
   "source": [
    "dete_resignations['cease_date'] = dete_resignations['cease_date'].str.split('/').str[-1]\n",
    "#Splitting on the / delimeter and only selecting the last string to get the year only"
   ]
  },
  {
   "cell_type": "code",
   "execution_count": 22,
   "metadata": {},
   "outputs": [
    {
     "data": {
      "text/plain": [
       "2013.0    146\n",
       "2012.0    129\n",
       "2014.0     22\n",
       "2010.0      2\n",
       "2006.0      1\n",
       "Name: cease_date, dtype: int64"
      ]
     },
     "execution_count": 22,
     "metadata": {},
     "output_type": "execute_result"
    }
   ],
   "source": [
    "dete_resignations['cease_date'] = dete_resignations['cease_date'].astype('float')\n",
    "#Converting the string values to float\n",
    "dete_resignations['cease_date'].value_counts()\n",
    "#checking to see how it worked out"
   ]
  },
  {
   "cell_type": "code",
   "execution_count": 23,
   "metadata": {},
   "outputs": [
    {
     "data": {
      "text/plain": [
       "array([2005., 1994., 2009., 1997., 1998., 2007.,   nan, 1982., 1980.,\n",
       "       1973., 1995., 2003., 2006., 2011., 1977., 1974., 1976., 1993.,\n",
       "       2008., 1986., 2002., 2004., 2010., 2012., 1989., 1999., 1996.,\n",
       "       2000., 1991., 1992., 2001., 1988., 1990., 1985., 1963., 2013.,\n",
       "       1972., 1983., 1971., 1984., 1975., 1987.])"
      ]
     },
     "execution_count": 23,
     "metadata": {},
     "output_type": "execute_result"
    }
   ],
   "source": [
    "dete_resignations['dete_start_date'].unique()"
   ]
  },
  {
   "cell_type": "code",
   "execution_count": 24,
   "metadata": {},
   "outputs": [
    {
     "data": {
      "text/plain": [
       "array([2010., 2009.,   nan, 2011., 2012., 2013.])"
      ]
     },
     "execution_count": 24,
     "metadata": {},
     "output_type": "execute_result"
    }
   ],
   "source": [
    "tafe_resignation['cease_date'].unique()"
   ]
  },
  {
   "cell_type": "code",
   "execution_count": 25,
   "metadata": {},
   "outputs": [
    {
     "data": {
      "text/plain": [
       "<matplotlib.axes._subplots.AxesSubplot at 0x7f3a04843860>"
      ]
     },
     "execution_count": 25,
     "metadata": {},
     "output_type": "execute_result"
    },
    {
     "data": {
      "image/png": "iVBORw0KGgoAAAANSUhEUgAAAXoAAAEBCAYAAAB2RW6SAAAABHNCSVQICAgIfAhkiAAAAAlwSFlz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\nRU5ErkJggg==\n",
      "text/plain": [
       "<matplotlib.figure.Figure at 0x7f3a078b4240>"
      ]
     },
     "metadata": {},
     "output_type": "display_data"
    }
   ],
   "source": [
    "import matplotlib.pyplot as plt\n",
    "%matplotlib inline\n",
    "\n",
    "dete_resignations.boxplot(column = 'dete_start_date')\n",
    "#Visual data to check for outliers"
   ]
  },
  {
   "cell_type": "markdown",
   "metadata": {},
   "source": [
    "Found outliers in the dete_start_date column so I will filter out the \n",
    "outliers since it doesnt line up with the rest of the data"
   ]
  },
  {
   "cell_type": "code",
   "execution_count": 26,
   "metadata": {
    "collapsed": true
   },
   "outputs": [],
   "source": [
    "dete_resignations['dete_start_date'] = dete_resignations['dete_start_date'].astype(float)"
   ]
  },
  {
   "cell_type": "code",
   "execution_count": 27,
   "metadata": {
    "collapsed": true
   },
   "outputs": [],
   "source": [
    "dete_resignations = dete_resignations[dete_resignations['dete_start_date'] > 1980]\n",
    "#Filtering data to remove outliers"
   ]
  },
  {
   "cell_type": "code",
   "execution_count": 28,
   "metadata": {},
   "outputs": [
    {
     "data": {
      "text/plain": [
       "array([2005., 1994., 2009., 1997., 1998., 2007., 1982., 1995., 2003.,\n",
       "       2006., 2011., 1993., 2008., 1986., 2002., 2004., 2010., 2012.,\n",
       "       1989., 1999., 1996., 2000., 1991., 1992., 2001., 1988., 1990.,\n",
       "       1985., 2013., 1983., 1984., 1987.])"
      ]
     },
     "execution_count": 28,
     "metadata": {},
     "output_type": "execute_result"
    }
   ],
   "source": [
    "dete_resignations['dete_start_date'].unique()"
   ]
  },
  {
   "cell_type": "markdown",
   "metadata": {},
   "source": [
    "tafe_resignations already has a column that indicates the number of years an employee has worked at the institute, but dete_resignations doesn't. Going to create a new column that subtracts the cease date from start date to calculate this."
   ]
  },
  {
   "cell_type": "code",
   "execution_count": 29,
   "metadata": {},
   "outputs": [
    {
     "data": {
      "text/plain": [
       "3      7.0\n",
       "5     18.0\n",
       "8      3.0\n",
       "9     15.0\n",
       "11     3.0\n",
       "Name: institute_service, dtype: float64"
      ]
     },
     "execution_count": 29,
     "metadata": {},
     "output_type": "execute_result"
    }
   ],
   "source": [
    "dete_resignations['institute_service'] = dete_resignations['cease_date'] - dete_resignations['dete_start_date']\n",
    "dete_resignations['institute_service'].head()"
   ]
  },
  {
   "cell_type": "markdown",
   "metadata": {},
   "source": [
    "Going to standardise the dissatisfaction columns in the tafe_resignations dataframe and then create another column to show whether the employee was dissatisfied or not."
   ]
  },
  {
   "cell_type": "code",
   "execution_count": 30,
   "metadata": {},
   "outputs": [
    {
     "data": {
      "text/plain": [
       "array(['-', 'Contributing Factors. Dissatisfaction ', nan], dtype=object)"
      ]
     },
     "execution_count": 30,
     "metadata": {},
     "output_type": "execute_result"
    }
   ],
   "source": [
    "tafe_resignation['Contributing Factors. Dissatisfaction'].unique()"
   ]
  },
  {
   "cell_type": "code",
   "execution_count": 31,
   "metadata": {},
   "outputs": [],
   "source": [
    "def update_values(value):\n",
    "    \n",
    "    if pd.isnull(value):\n",
    "        return np.nan\n",
    "    elif value == '-':\n",
    "        return False\n",
    "    else:\n",
    "        return True\n",
    "\n",
    "\n",
    "#tafe_resignation['dissatisfied'] = tafe_resignation[['Contributing Factors. Dissatisfaction','Contributing Factors. Job Dissatisfaction']].applymap(update_values)"
   ]
  },
  {
   "cell_type": "code",
   "execution_count": 32,
   "metadata": {},
   "outputs": [
    {
     "name": "stderr",
     "output_type": "stream",
     "text": [
      "/dataquest/system/env/python3/lib/python3.4/site-packages/ipykernel/__main__.py:1: SettingWithCopyWarning:\n",
      "\n",
      "\n",
      "A value is trying to be set on a copy of a slice from a DataFrame.\n",
      "Try using .loc[row_indexer,col_indexer] = value instead\n",
      "\n",
      "See the caveats in the documentation: http://pandas.pydata.org/pandas-docs/stable/indexing.html#indexing-view-versus-copy\n",
      "\n"
     ]
    }
   ],
   "source": [
    "tafe_resignation['dissatisfied'] = tafe_resignation[['Contributing Factors. Dissatisfaction','Contributing Factors. Job Dissatisfaction']].applymap(update_values).any(axis = 1,skipna = False)"
   ]
  },
  {
   "cell_type": "code",
   "execution_count": 33,
   "metadata": {},
   "outputs": [],
   "source": [
    "tafe_resignation_updated = tafe_resignation.copy()\n",
    "#Taking a copy so that I have a checkpoint to come back to"
   ]
  },
  {
   "cell_type": "code",
   "execution_count": 34,
   "metadata": {},
   "outputs": [
    {
     "data": {
      "text/plain": [
       "False    241\n",
       "True      91\n",
       "Name: dissatisfied, dtype: int64"
      ]
     },
     "execution_count": 34,
     "metadata": {},
     "output_type": "execute_result"
    }
   ],
   "source": [
    "tafe_resignation_updated['dissatisfied'].value_counts()"
   ]
  },
  {
   "cell_type": "markdown",
   "metadata": {},
   "source": [
    "The dete_resignations dataframe already has the dissatisfaction columns in True or False values so no need to apply a function on it. Created new column 'dissatisfied' "
   ]
  },
  {
   "cell_type": "code",
   "execution_count": 35,
   "metadata": {},
   "outputs": [
    {
     "data": {
      "text/plain": [
       "False    140\n",
       "True     128\n",
       "Name: dissatisfied, dtype: int64"
      ]
     },
     "execution_count": 35,
     "metadata": {},
     "output_type": "execute_result"
    }
   ],
   "source": [
    "dete_resignations['dissatisfied'] = dete_resignations[['job_dissatisfaction',\n",
    "       'dissatisfaction_with_the_department', 'physical_work_environment',\n",
    "       'lack_of_recognition', 'lack_of_job_security', 'work_location',\n",
    "       'employment_conditions', 'work_life_balance',\n",
    "       'workload']].any(axis = 1, skipna=False)\n",
    "dete_resignations_updated = dete_resignations.copy()\n",
    "dete_resignations_updated['dissatisfied'].value_counts()"
   ]
  },
  {
   "cell_type": "markdown",
   "metadata": {},
   "source": [
    "Adding a new column to both dataframes to help distinguish between the two. This will allow us to easily distinguish data in our final merged dataframe. Also use thresh to remove columns with less than 500 non-null values.\n"
   ]
  },
  {
   "cell_type": "code",
   "execution_count": 36,
   "metadata": {
    "collapsed": true
   },
   "outputs": [],
   "source": [
    "dete_resignations_updated['institute'] = 'DETE'\n",
    "tafe_resignation_updated['institute'] = 'TAFE'"
   ]
  },
  {
   "cell_type": "code",
   "execution_count": 37,
   "metadata": {},
   "outputs": [],
   "source": [
    "combined = pd.concat([dete_resignations_updated,tafe_resignation_updated], ignore_index = True)"
   ]
  },
  {
   "cell_type": "code",
   "execution_count": 38,
   "metadata": {
    "collapsed": true
   },
   "outputs": [],
   "source": [
    "combined = combined.dropna(thresh = 500, axis = 1)"
   ]
  },
  {
   "cell_type": "markdown",
   "metadata": {},
   "source": [
    "Almost ready to start analysis. Just need to clean institute_service column. The column shows number of years served at institute. However, the values differ in how they were inputted. So I'll categorise employees according to number of years served."
   ]
  },
  {
   "cell_type": "code",
   "execution_count": 39,
   "metadata": {},
   "outputs": [
    {
     "name": "stderr",
     "output_type": "stream",
     "text": [
      "/dataquest/system/env/python3/lib/python3.4/site-packages/ipykernel/__main__.py:3: FutureWarning:\n",
      "\n",
      "currently extract(expand=None) means expand=False (return Index/Series/DataFrame) but in a future version of pandas this will be changed to expand=True (return DataFrame)\n",
      "\n"
     ]
    }
   ],
   "source": [
    "combined['institute_service'] = combined['institute_service'].astype(str)\n",
    "pattern = r'(\\d+)'\n",
    "combined['institute_service'] = combined['institute_service'].str.extract(pattern)"
   ]
  },
  {
   "cell_type": "code",
   "execution_count": 40,
   "metadata": {},
   "outputs": [],
   "source": [
    "#change values to float\n",
    "combined['institute_service'] = combined['institute_service'].astype(float)"
   ]
  },
  {
   "cell_type": "code",
   "execution_count": 41,
   "metadata": {},
   "outputs": [
    {
     "data": {
      "text/plain": [
       "Veteran        261\n",
       "New            193\n",
       "Experienced     72\n",
       "Established     22\n",
       "Name: service_category, dtype: int64"
      ]
     },
     "execution_count": 41,
     "metadata": {},
     "output_type": "execute_result"
    }
   ],
   "source": [
    "#Function to categorise values in institute_service column\n",
    "def category(value):\n",
    "    \n",
    "    if pd.isnull(value):\n",
    "        return np.nan\n",
    "    elif value < 3:\n",
    "        return 'New'\n",
    "    elif value > 3 and value<6:\n",
    "        return 'Experienced'\n",
    "    elif value > 7 and value < 10:\n",
    "        return 'Established'\n",
    "    else:\n",
    "        return 'Veteran'\n",
    "\n",
    "combined['service_category'] = combined['institute_service'].apply(category)\n",
    "combined['service_category'].value_counts()"
   ]
  },
  {
   "cell_type": "code",
   "execution_count": 42,
   "metadata": {},
   "outputs": [
    {
     "data": {
      "text/plain": [
       "False    381\n",
       "True     219\n",
       "NaN        8\n",
       "Name: dissatisfied, dtype: int64"
      ]
     },
     "execution_count": 42,
     "metadata": {},
     "output_type": "execute_result"
    }
   ],
   "source": [
    "combined['dissatisfied'].value_counts(dropna = False)"
   ]
  },
  {
   "cell_type": "code",
   "execution_count": 43,
   "metadata": {
    "collapsed": true
   },
   "outputs": [],
   "source": [
    "#Filled in Nan values with most common value in column (False)\n",
    "combined['institute_service'] = combined['dissatisfied'].fillna(False)\n"
   ]
  },
  {
   "cell_type": "code",
   "execution_count": 58,
   "metadata": {},
   "outputs": [
    {
     "data": {
      "text/plain": [
       "<matplotlib.axes._subplots.AxesSubplot at 0x7f3a00fb0b38>"
      ]
     },
     "execution_count": 58,
     "metadata": {},
     "output_type": "execute_result"
    },
    {
     "data": {
      "image/png": "iVBORw0KGgoAAAANSUhEUgAAAXEAAAE5CAYAAABmjBClAAAABHNCSVQICAgIfAhkiAAAAAlwSFlz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\nKRhDnIhIwRjiREQK9n8BhU2DBTYwn9wAAAAASUVORK5CYII=\n",
      "text/plain": [
       "<matplotlib.figure.Figure at 0x7f3a00f3c240>"
      ]
     },
     "metadata": {},
     "output_type": "display_data"
    }
   ],
   "source": [
    "grouped = combined.groupby('service_category')\n",
    "percentage = grouped['institute_service'].mean()\n",
    "\n",
    "percentage.plot(kind = 'bar',rot = 45)"
   ]
  },
  {
   "cell_type": "markdown",
   "metadata": {},
   "source": [
    "To recap, our question was:\n",
    "1) Are employees who only worked for the institutes for a short period of time resigning due to some kind of dissatisfaction? What about employees who have been there longer?\n",
    "\n",
    "From our data, we can tell that employees who have been at the institutes for a long period of time (Established or Veterans) are more likely to leave their position due to some kind of dissatisfaction as compared to newer employees."
   ]
  },
  {
   "cell_type": "code",
   "execution_count": null,
   "metadata": {
    "collapsed": true
   },
   "outputs": [],
   
